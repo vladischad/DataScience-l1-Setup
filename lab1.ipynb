{
 "cells": [
  {
   "cell_type": "markdown",
   "id": "0476bbf4",
   "metadata": {},
   "source": [
    "# Lab 1: Intro Python Practice (5 points)\n",
    "\n",
    "Instructions:\n",
    "- Feel free to experiment by modifying the code and re-running the cell.\n",
    "- Successful submission: 1 point\n",
    "- Each question: 1 point (4x1)\n",
    "- To get the point, you need to complete the code, give the answer, and provide explanation (only if required).\n"
   ]
  },
  {
   "cell_type": "markdown",
   "id": "fc0b0f8f",
   "metadata": {},
   "source": [
    "## Question 1: Area of a circle\n",
    "\n",
    "Compute the area of a circle with radius `r = 5` using the formula `A = π r^2`.\n"
   ]
  },
  {
   "cell_type": "code",
   "execution_count": null,
   "id": "c469c3fb",
   "metadata": {},
   "outputs": [],
   "source": [
    "import math\n",
    "r = 5\n",
    "area = # type your code here. hint: get pi by using math.pi\n",
    "print(area)\n"
   ]
  },
  {
   "cell_type": "markdown",
   "id": "8f76e66b",
   "metadata": {},
   "source": [
    "Your answer:\n"
   ]
  },
  {
   "cell_type": "markdown",
   "id": "fd678859",
   "metadata": {},
   "source": [
    "## Question 2: Sum of even numbers\n",
    "\n",
    "Given the list `nums = [1,2,3,4,5,6,7,8,9,10]`, compute the sum of the even numbers.\n"
   ]
  },
  {
   "cell_type": "code",
   "execution_count": null,
   "id": "d0196afb",
   "metadata": {},
   "outputs": [],
   "source": [
    "nums = [1, 2, 3, 4, 5, 6, 7, 8, 9, 10]\n",
    "# your code here\n"
   ]
  },
  {
   "cell_type": "markdown",
   "id": "daeb4503",
   "metadata": {},
   "source": [
    "Your answer and explanation (why this works):\n",
    "\n",
    "\n",
    "<Type your answer and explanation here>\n"
   ]
  },
  {
   "cell_type": "markdown",
   "id": "80713748",
   "metadata": {},
   "source": [
    "## Question 3: Count vowels in a string\n",
    "\n",
    "Count the number of vowels in the string `s = \"Hello, world!\"` (consider both uppercase and lowercase).\n"
   ]
  },
  {
   "cell_type": "code",
   "execution_count": null,
   "id": "fad77ace",
   "metadata": {},
   "outputs": [],
   "source": [
    "s = \"Hello, world!\"\n",
    "vowels = set(\"aeiouAEIOU\")\n",
    "# your code here\n"
   ]
  },
  {
   "cell_type": "markdown",
   "id": "99de18b3",
   "metadata": {},
   "source": [
    "Your answer and explanation (why this works):\n",
    "\n",
    "<Type your answer and explanation here>\n"
   ]
  },
  {
   "cell_type": "markdown",
   "id": "5d897bf6",
   "metadata": {},
   "source": [
    "## Question 4: Factorial function\n",
    "\n",
    "Write a function to compute the factorial of `n` (e.g., `factorial(5) == 120`) using an iterative approach.\n"
   ]
  },
  {
   "cell_type": "code",
   "execution_count": null,
   "id": "d9f542c6",
   "metadata": {},
   "outputs": [],
   "source": [
    "def factorial(n):\n",
    "    # your code here\n",
    "    # complete this function\n",
    "\n",
    "factorial(5)\n"
   ]
  },
  {
   "cell_type": "markdown",
   "id": "a5e1efbc",
   "metadata": {},
   "source": [
    "Your explanation (why this works):\n",
    "\n",
    "- Explain the loop, accumulator pattern, and why the base value is 1.\n",
    "\n",
    "<Type your explanation here>\n"
   ]
  }
 ],
 "metadata": {
  "kernelspec": {
   "display_name": "Python 3 (ipykernel)",
   "language": "python",
   "name": "python3"
  },
  "language_info": {
   "codemirror_mode": {
    "name": "ipython",
    "version": 3
   },
   "file_extension": ".py",
   "mimetype": "text/x-python",
   "name": "python",
   "nbconvert_exporter": "python",
   "pygments_lexer": "ipython3",
   "version": "3.13.5"
  }
 },
 "nbformat": 4,
 "nbformat_minor": 5
}
