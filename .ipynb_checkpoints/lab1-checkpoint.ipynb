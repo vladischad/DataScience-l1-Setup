{
 "cells": [
  {
   "cell_type": "markdown",
   "id": "0476bbf4",
   "metadata": {},
   "source": [
    "# Lab 1: Intro Python Practice (5 points)\n",
    "\n",
    "Instructions:\n",
    "- Feel free to experiment by modifying the code and re-running the cell.\n",
    "- Successful submission: 1 point\n",
    "- Each question: 1 point (4x1)\n",
    "- To get the point, you need to complete the code, give the answer, and provide explanation (only if required).\n"
   ]
  },
  {
   "cell_type": "markdown",
   "id": "fc0b0f8f",
   "metadata": {},
   "source": [
    "## Question 1: Area of a circle\n",
    "\n",
    "Compute the area of a circle with radius `r = 5` using the formula `A = π r^2`.\n"
   ]
  },
  {
   "cell_type": "code",
   "execution_count": 1,
   "id": "c469c3fb",
   "metadata": {},
   "outputs": [
    {
     "name": "stdout",
     "output_type": "stream",
     "text": [
      "78.53981633974483\n"
     ]
    }
   ],
   "source": [
    "import math\n",
    "r = 5\n",
    "area = math.pi * r ** 2# type your code here. hint: get pi by using math.pi\n",
    "print(area)"
   ]
  },
  {
   "cell_type": "markdown",
   "id": "8f76e66b",
   "metadata": {},
   "source": [
    "Your answer: 78.53981633974483\n"
   ]
  },
  {
   "cell_type": "markdown",
   "id": "fd678859",
   "metadata": {},
   "source": [
    "## Question 2: Sum of even numbers\n",
    "\n",
    "Given the list `nums = [1,2,3,4,5,6,7,8,9,10]`, compute the sum of the even numbers.\n"
   ]
  },
  {
   "cell_type": "code",
   "execution_count": 2,
   "id": "d0196afb",
   "metadata": {},
   "outputs": [
    {
     "data": {
      "text/plain": [
       "30"
      ]
     },
     "execution_count": 2,
     "metadata": {},
     "output_type": "execute_result"
    }
   ],
   "source": [
    "nums = [1, 2, 3, 4, 5, 6, 7, 8, 9, 10]\n",
    "# your code here\n",
    "even_sum = sum(i for i in nums if i % 2 == 0)\n",
    "even_sum"
   ]
  },
  {
   "cell_type": "markdown",
   "id": "daeb4503",
   "metadata": {},
   "source": [
    "Sum of even numbers is 30\n",
    "\n",
    "\n",
    "It works because:\n",
    "- x % 2 == 0 checks if a number is even (remainder 0 when divided by 2).\n",
    "- The generator expression (x for x in nums if x % 2 == 0) collects only the even numbers from the list.\n",
    "- sum() adds them all together:\n"
   ]
  },
  {
   "cell_type": "markdown",
   "id": "80713748",
   "metadata": {},
   "source": [
    "## Question 3: Count vowels in a string\n",
    "\n",
    "Count the number of vowels in the string `s = \"Hello, world!\"` (consider both uppercase and lowercase).\n"
   ]
  },
  {
   "cell_type": "code",
   "execution_count": 3,
   "id": "fad77ace",
   "metadata": {},
   "outputs": [
    {
     "data": {
      "text/plain": [
       "3"
      ]
     },
     "execution_count": 3,
     "metadata": {},
     "output_type": "execute_result"
    }
   ],
   "source": [
    "s = \"Hello, world!\"\n",
    "vowels = set(\"aeiouAEIOU\")\n",
    "# your code here\n",
    "count = sum(1 for char in s if char in vowels)\n",
    "count"
   ]
  },
  {
   "cell_type": "markdown",
   "id": "99de18b3",
   "metadata": {},
   "source": [
    "The number of vowels in the given string is 3\n",
    "\n",
    "This works because:\n",
    "- We go through the \"s\" string and check if any of the symbols are in the set \"vowels\"\n",
    "- Every time we find the vowel we add 1 and then find the sum of all of the 1's"
   ]
  },
  {
   "cell_type": "markdown",
   "id": "5d897bf6",
   "metadata": {},
   "source": [
    "## Question 4: Factorial function\n",
    "\n",
    "Write a function to compute the factorial of `n` (e.g., `factorial(5) == 120`) using an iterative approach.\n"
   ]
  },
  {
   "cell_type": "code",
   "execution_count": 8,
   "id": "d9f542c6",
   "metadata": {},
   "outputs": [
    {
     "data": {
      "text/plain": [
       "120"
      ]
     },
     "execution_count": 8,
     "metadata": {},
     "output_type": "execute_result"
    }
   ],
   "source": [
    "def factorial(n):\n",
    "    result = 1\n",
    "    for i in range (1, n + 1):\n",
    "        result = result * i\n",
    "    return result\n",
    "\n",
    "factorial(5)"
   ]
  },
  {
   "cell_type": "markdown",
   "id": "a5e1efbc",
   "metadata": {},
   "source": [
    "This works because: \n",
    "- We have a loop that goes trough all the numbers in the range from 1 to given number\n",
    "- We take the result (which is initially 1) and multiply it by every number from the range\n",
    "\n",
    "The base value is 1 because the lowest factorial is 1 (iven the factorial of 0)"
   ]
  },
  {
   "cell_type": "code",
   "execution_count": null,
   "id": "5eaeffd5-9117-4bc4-894a-efc62c4cb1bf",
   "metadata": {},
   "outputs": [],
   "source": []
  }
 ],
 "metadata": {
  "kernelspec": {
   "display_name": "Python 3 (ipykernel)",
   "language": "python",
   "name": "python3"
  },
  "language_info": {
   "codemirror_mode": {
    "name": "ipython",
    "version": 3
   },
   "file_extension": ".py",
   "mimetype": "text/x-python",
   "name": "python",
   "nbconvert_exporter": "python",
   "pygments_lexer": "ipython3",
   "version": "3.13.5"
  }
 },
 "nbformat": 4,
 "nbformat_minor": 5
}
